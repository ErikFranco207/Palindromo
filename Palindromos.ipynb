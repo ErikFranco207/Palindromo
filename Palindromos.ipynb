{
 "cells": [
  {
   "cell_type": "markdown",
   "metadata": {},
   "source": [
    "# Cpmprobar si la frase es un palindromo \n",
    "Allí por la tropa portado, traído a ese paraje de maniobras, una tipa como capitán usar boina me dejara, pese a odiar toda tropa por tal ropilla."
   ]
  },
  {
   "cell_type": "code",
   "execution_count": 4,
   "metadata": {},
   "outputs": [],
   "source": [
    "cadena='''Allí por la tropa portado, traído a ese paraje de maniobras, una tipa como capitán usar boina me dejara, pese a odiar toda tropa por tal ropilla.'''"
   ]
  },
  {
   "cell_type": "markdown",
   "metadata": {},
   "source": [
    "# Pasar todo a minusculas"
   ]
  },
  {
   "cell_type": "code",
   "execution_count": 5,
   "metadata": {},
   "outputs": [],
   "source": [
    "minusculas=cadena.lower()"
   ]
  },
  {
   "cell_type": "markdown",
   "metadata": {},
   "source": [
    "# Eliminar espacios"
   ]
  },
  {
   "cell_type": "code",
   "execution_count": 6,
   "metadata": {},
   "outputs": [
    {
     "name": "stdout",
     "output_type": "stream",
     "text": [
      "['allí', 'por', 'la', 'tropa', 'portado,', 'traído', 'a', 'ese', 'paraje', 'de', 'maniobras,', 'una', 'tipa', 'como', 'capitán', 'usar', 'boina', 'me', 'dejara,', 'pese', 'a', 'odiar', 'toda', 'tropa', 'por', 'tal', 'ropilla.']\n"
     ]
    }
   ],
   "source": [
    "palabras = minusculas.split()\n",
    "print(palabras)"
   ]
  },
  {
   "cell_type": "markdown",
   "metadata": {},
   "source": [
    "# Eliminar comas y puntos\n",
    "Creamos una lista vacía(lista plana), por cada elemento de la lista palabras, el strip elimina puntos y comas. El resultado se guarsda en la variable q y a la lista plana se le añade q.(join) concatena todos los elementos de la lista."
   ]
  },
  {
   "cell_type": "code",
   "execution_count": 20,
   "metadata": {},
   "outputs": [
    {
     "name": "stdout",
     "output_type": "stream",
     "text": [
      "allí\n",
      "allípor\n",
      "allíporla\n",
      "allíporlatropa\n",
      "allíporlatropaportado\n",
      "allíporlatropaportadotraído\n",
      "allíporlatropaportadotraídoa\n",
      "allíporlatropaportadotraídoaese\n",
      "allíporlatropaportadotraídoaeseparaje\n",
      "allíporlatropaportadotraídoaeseparajede\n",
      "allíporlatropaportadotraídoaeseparajedemaniobras\n",
      "allíporlatropaportadotraídoaeseparajedemaniobrasuna\n",
      "allíporlatropaportadotraídoaeseparajedemaniobrasunatipa\n",
      "allíporlatropaportadotraídoaeseparajedemaniobrasunatipacomo\n",
      "allíporlatropaportadotraídoaeseparajedemaniobrasunatipacomocapitán\n",
      "allíporlatropaportadotraídoaeseparajedemaniobrasunatipacomocapitánusar\n",
      "allíporlatropaportadotraídoaeseparajedemaniobrasunatipacomocapitánusarboina\n",
      "allíporlatropaportadotraídoaeseparajedemaniobrasunatipacomocapitánusarboiname\n",
      "allíporlatropaportadotraídoaeseparajedemaniobrasunatipacomocapitánusarboinamedejara\n",
      "allíporlatropaportadotraídoaeseparajedemaniobrasunatipacomocapitánusarboinamedejarapese\n",
      "allíporlatropaportadotraídoaeseparajedemaniobrasunatipacomocapitánusarboinamedejarapesea\n",
      "allíporlatropaportadotraídoaeseparajedemaniobrasunatipacomocapitánusarboinamedejarapeseaodiar\n",
      "allíporlatropaportadotraídoaeseparajedemaniobrasunatipacomocapitánusarboinamedejarapeseaodiartoda\n",
      "allíporlatropaportadotraídoaeseparajedemaniobrasunatipacomocapitánusarboinamedejarapeseaodiartodatropa\n",
      "allíporlatropaportadotraídoaeseparajedemaniobrasunatipacomocapitánusarboinamedejarapeseaodiartodatropapor\n",
      "allíporlatropaportadotraídoaeseparajedemaniobrasunatipacomocapitánusarboinamedejarapeseaodiartodatropaportal\n",
      "allíporlatropaportadotraídoaeseparajedemaniobrasunatipacomocapitánusarboinamedejarapeseaodiartodatropaportalropilla\n"
     ]
    }
   ],
   "source": [
    "lista_plana = []\n",
    "for p in palabras:\n",
    "    q = p.strip(\".\").strip(\",\")\n",
    "    lista_plana.append(q)\n",
    "    cadena_plana = \"\".join(lista_plana)\n",
    "    print(cadena_plana)"
   ]
  },
  {
   "cell_type": "markdown",
   "metadata": {},
   "source": [
    "# Cambiamos los acentos"
   ]
  },
  {
   "cell_type": "code",
   "execution_count": 21,
   "metadata": {},
   "outputs": [
    {
     "name": "stdout",
     "output_type": "stream",
     "text": [
      "alliporlatropaportadotraidoaeseparajedemaniobrasunatipacomocapitanusarboinamedejarapeseaodiartodatropaportalropilla\n"
     ]
    }
   ],
   "source": [
    "cadena_plana=cadena_plana.replace(\"á\",\"a\").replace(\"í\",\"i\").replace(\"é\",\"e\").replace(\"ó\",\"o\").replace(\"ú\",\"u\")\n",
    "print(cadena_plana)"
   ]
  },
  {
   "cell_type": "code",
   "execution_count": null,
   "metadata": {},
   "outputs": [],
   "source": []
  }
 ],
 "metadata": {
  "kernelspec": {
   "display_name": "Python 3",
   "language": "python",
   "name": "python3"
  },
  "language_info": {
   "codemirror_mode": {
    "name": "ipython",
    "version": 3
   },
   "file_extension": ".py",
   "mimetype": "text/x-python",
   "name": "python",
   "nbconvert_exporter": "python",
   "pygments_lexer": "ipython3",
   "version": "3.8.5"
  }
 },
 "nbformat": 4,
 "nbformat_minor": 4
}
